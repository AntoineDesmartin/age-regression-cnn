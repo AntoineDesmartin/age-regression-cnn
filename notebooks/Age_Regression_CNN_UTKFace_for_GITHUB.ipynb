{
 "cells": [
  {
   "cell_type": "markdown",
   "execution_count": null,
   "metadata": {},
   "source": [
    "# Age Regression CNN — UTKFace (Aligned & Cropped)\n",
    "**But** : prédire l'âge (valeur continue) à partir d'une image de visage.\n",
    "\n",
    "- Dataset : UTKFace *Aligned & Cropped* (≈107 MB)\n",
    "- Modèle : MobileNetV2 (ImageNet) + tête régression\n",
    "- Perte : MSE ; Métrique : MAE (erreur moyenne en années)"
   ]
  },
  {
   "cell_type": "code",
   "execution_count": null,
   "metadata": {
    "colab": {
     "base_uri": "https://localhost:8080/"
    },
    "outputId": "0138310a-6099-4958-835c-bf9789d3aa88"
   },
   "outputs": [],
   "source": [
    "!nvidia-smi || echo \"No NVIDIA GPU (CPU only)\"\n",
    "!pip -q install -U tensorflow gradio\n",
    "\n",
    "import os, re, zipfile, random, math, json, pathlib\n",
    "import numpy as np\n",
    "import pandas as pd\n",
    "\n",
    "import tensorflow as tf\n",
    "from tensorflow import keras\n",
    "from tensorflow.keras import layers\n",
    "\n",
    "from sklearn.model_selection import train_test_split\n",
    "print(\"TF:\", tf.__version__)\n"
   ]
  },
  {
   "cell_type": "markdown",
   "execution_count": null,
   "metadata": {},
   "source": []
  },
  {
   "cell_type": "code",
   "execution_count": null,
   "metadata": {
    "colab": {
     "base_uri": "https://localhost:8080/"
    },
    "outputId": "b4ddb2aa-cd49-43ae-ccd6-7da7f660629f"
   },
   "outputs": [],
   "source": [
    "import kagglehub, os, shutil\n",
    "\n",
    "path = kagglehub.dataset_download(\"jangedoo/utkface-new\")\n",
    "print(\"Path to dataset files:\", path)\n",
    "\n",
    "DATA_ROOT = \"/content/data\"\n",
    "EXTRACT_DIR = os.path.join(DATA_ROOT, \"UTKFace_kaggle\")\n",
    "if os.path.exists(EXTRACT_DIR):\n",
    "    shutil.rmtree(EXTRACT_DIR)\n",
    "os.makedirs(EXTRACT_DIR, exist_ok=True)\n",
    "\n",
    "\n",
    "def is_img(fname):\n",
    "    return fname.lower().endswith((\".jpg\",\".jpeg\",\".png\"))\n",
    "\n",
    "count = 0\n",
    "for root, _, files in os.walk(path):\n",
    "    for f in files:\n",
    "        if is_img(f):\n",
    "            src = os.path.join(root, f)\n",
    "            dst = os.path.join(EXTRACT_DIR, f)\n",
    "            if os.path.exists(dst):\n",
    "                stem, ext = os.path.splitext(f)\n",
    "                i = 1\n",
    "                while os.path.exists(dst):\n",
    "                    dst = os.path.join(EXTRACT_DIR, f\"{stem}_{i}{ext}\")\n",
    "                    i += 1\n",
    "            shutil.copy2(src, dst)\n",
    "            count += 1\n",
    "\n",
    "print(\"Images copiées:\", count)\n",
    "print(\"EXTRACT_DIR =\", EXTRACT_DIR)\n"
   ]
  },
  {
   "cell_type": "code",
   "execution_count": null,
   "metadata": {
    "colab": {
     "base_uri": "https://localhost:8080/",
     "height": 224
    },
    "outputId": "67ed699e-4c6c-4aaa-9f82-6483c6569be4"
   },
   "outputs": [],
   "source": [
    "def list_images_with_age(root):\n",
    "    paths, ages = [], []\n",
    "    for dirpath, _, files in os.walk(root):\n",
    "        for f in files:\n",
    "            if f.lower().endswith((\".jpg\",\".jpeg\",\".png\")):\n",
    "                m = re.match(r\"^(\\d+)_\", f)\n",
    "                if not m:\n",
    "                    m = re.match(r\"^(\\d+)\", f) \n",
    "                if m:\n",
    "                    age = int(m.group(1))\n",
    "                    if 0 <= age <= 100: \n",
    "                        paths.append(os.path.join(dirpath, f))\n",
    "                        ages.append(age)\n",
    "    return pd.DataFrame({\"path\": paths, \"age\": ages})\n",
    "\n",
    "df = list_images_with_age(EXTRACT_DIR)\n",
    "print(\"Images valides:\", len(df))\n",
    "df.head()\n"
   ]
  },
  {
   "cell_type": "code",
   "execution_count": null,
   "metadata": {
    "colab": {
     "base_uri": "https://localhost:8080/"
    },
    "outputId": "a018dd3f-0530-4b98-f8ab-b0e7e9df13a9"
   },
   "outputs": [],
   "source": [
    "df = df.sample(frac=1, random_state=42).reset_index(drop=True)\n",
    "train_df, test_df = train_test_split(df, test_size=0.10, random_state=42)\n",
    "train_df, val_df  = train_test_split(train_df, test_size=0.10, random_state=42)\n",
    "len(train_df), len(val_df), len(test_df)\n"
   ]
  },
  {
   "cell_type": "code",
   "execution_count": null,
   "metadata": {
    "colab": {
     "base_uri": "https://localhost:8080/"
    },
    "outputId": "2c4a23d7-c39b-4b14-e9ab-d6860b30079d"
   },
   "outputs": [],
   "source": [
    "IMG_SIZE = 160\n",
    "BATCH = 64\n",
    "AUTOTUNE = tf.data.AUTOTUNE\n",
    "\n",
    "def decode_image(path):\n",
    "    img = tf.io.read_file(path)\n",
    "    img = tf.image.decode_jpeg(img, channels=3)\n",
    "    img = tf.image.resize(img, (IMG_SIZE, IMG_SIZE), antialias=True)\n",
    "    return img\n",
    "\n",
    "def preprocess(img):\n",
    "    return tf.keras.applications.mobilenet_v2.preprocess_input(img)\n",
    "\n",
    "def load_item(path, age):\n",
    "    img = decode_image(path)\n",
    "    img = preprocess(img)\n",
    "    age = tf.cast(age, tf.float32)\n",
    "    return img, age\n",
    "\n",
    "augment = keras.Sequential([\n",
    "    layers.RandomFlip(\"horizontal\"),\n",
    "    layers.RandomRotation(0.05),\n",
    "    layers.RandomZoom(0.1),\n",
    "], name=\"augment\")\n",
    "\n",
    "def df_to_ds(frame, training=False):\n",
    "    ds = tf.data.Dataset.from_tensor_slices((frame[\"path\"].values, frame[\"age\"].values))\n",
    "    ds = ds.map(load_item, num_parallel_calls=AUTOTUNE)\n",
    "    if training:\n",
    "        ds = ds.map(lambda x, y: (augment(x, training=True), y), num_parallel_calls=AUTOTUNE)\n",
    "        ds = ds.shuffle(2048, reshuffle_each_iteration=True)\n",
    "    ds = ds.batch(BATCH).prefetch(AUTOTUNE)\n",
    "    return ds\n",
    "\n",
    "train_ds = df_to_ds(train_df, training=True)\n",
    "val_ds   = df_to_ds(val_df, training=False)\n",
    "test_ds  = df_to_ds(test_df, training=False)\n",
    "\n",
    "train_ds, val_ds, test_ds\n"
   ]
  },
  {
   "cell_type": "code",
   "execution_count": null,
   "metadata": {
    "colab": {
     "base_uri": "https://localhost:8080/",
     "height": 464
    },
    "outputId": "0328058c-8f74-4be7-fec1-729ea992277f"
   },
   "outputs": [],
   "source": [
    "base = tf.keras.applications.MobileNetV2(\n",
    "    input_shape=(IMG_SIZE, IMG_SIZE, 3),\n",
    "    include_top=False,\n",
    "    weights=\"imagenet\"\n",
    ")\n",
    "base.trainable = False\n",
    "\n",
    "inputs = layers.Input(shape=(IMG_SIZE, IMG_SIZE, 3))\n",
    "x = base(inputs, training=False)\n",
    "x = layers.GlobalAveragePooling2D()(x)\n",
    "x = layers.Dropout(0.2)(x)\n",
    "x = layers.Dense(128, activation=\"relu\")(x)\n",
    "x = layers.Dropout(0.2)(x)\n",
    "outputs = layers.Dense(1, activation=\"linear\")(x)  # âge (continu)\n",
    "\n",
    "model = keras.Model(inputs, outputs)\n",
    "model.summary()\n",
    "\n",
    "model.compile(\n",
    "    optimizer=keras.optimizers.Adam(1e-3),\n",
    "    loss=\"mse\",\n",
    "    metrics=[keras.metrics.MeanAbsoluteError(name=\"mae\")]\n",
    ")\n"
   ]
  },
  {
   "cell_type": "code",
   "execution_count": null,
   "metadata": {
    "colab": {
     "base_uri": "https://localhost:8080/"
    },
    "outputId": "ba76bd8f-1363-4c23-d031-71f0cdc5f671"
   },
   "outputs": [],
   "source": [
    "callbacks = [\n",
    "    keras.callbacks.EarlyStopping(monitor=\"val_mae\", patience=5, restore_best_weights=True),\n",
    "    keras.callbacks.ReduceLROnPlateau(monitor=\"val_mae\", factor=0.5, patience=2, min_lr=1e-5)\n",
    "]\n",
    "\n",
    "history = model.fit(\n",
    "    train_ds,\n",
    "    validation_data=val_ds,\n",
    "    epochs=15,\n",
    "    callbacks=callbacks,\n",
    "    verbose=1\n",
    ")\n"
   ]
  },
  {
   "cell_type": "code",
   "execution_count": null,
   "metadata": {
    "colab": {
     "base_uri": "https://localhost:8080/"
    },
    "outputId": "95ba5c5a-5030-4138-b0f6-b89647a12d2f"
   },
   "outputs": [],
   "source": [
    "base.trainable = True\n",
    "for i, layer in enumerate(base.layers):\n",
    "    if i < int(0.75 * len(base.layers)):  \n",
    "        layer.trainable = False\n",
    "\n",
    "model.compile(\n",
    "    optimizer=keras.optimizers.Adam(5e-4),\n",
    "    loss=\"mse\",\n",
    "    metrics=[keras.metrics.MeanAbsoluteError(name=\"mae\")]\n",
    ")\n",
    "\n",
    "history_ft = model.fit(\n",
    "    train_ds,\n",
    "    validation_data=val_ds,\n",
    "    epochs=10,\n",
    "    callbacks=callbacks,\n",
    "    verbose=1\n",
    ")\n"
   ]
  },
  {
   "cell_type": "code",
   "execution_count": null,
   "metadata": {
    "colab": {
     "base_uri": "https://localhost:8080/"
    },
    "outputId": "e6c3ab2e-329f-4cb2-8155-1825191532ec"
   },
   "outputs": [],
   "source": [
    "test_loss, test_mae = model.evaluate(test_ds, verbose=0)\n",
    "print(f\"Test — MSE: {test_loss:.3f} | MAE: {test_mae:.3f} ans\")\n",
    "\n",
    "y_true, y_pred = [], []\n",
    "for xb, yb in test_ds:\n",
    "    preds = model.predict(xb, verbose=0)\n",
    "    y_true.extend(yb.numpy().tolist())\n",
    "    y_pred.extend(preds.squeeze().tolist())\n",
    "\n",
    "y_true = np.array(y_true, dtype=float)\n",
    "y_pred = np.clip(np.array(y_pred, dtype=float), 0, 100)\n",
    "\n",
    "mae = np.mean(np.abs(y_true - y_pred))\n",
    "within5 = np.mean(np.abs(y_true - y_pred) <= 5.0)\n",
    "print(f\"MAE global: {mae:.2f} ans\")\n",
    "print(f\"Précision ±5 ans: {within5*100:.1f}%\")\n"
   ]
  },
  {
   "cell_type": "code",
   "execution_count": null,
   "metadata": {
    "colab": {
     "base_uri": "https://localhost:8080/"
    },
    "outputId": "716e332f-936d-4528-98db-67207b738a06"
   },
   "outputs": [],
   "source": [
    "SAVE_DIR = \"/content/age_regressor\"\n",
    "os.makedirs(SAVE_DIR, exist_ok=True)\n",
    "MODEL_PATH = os.path.join(SAVE_DIR, \"age_regressor.h5\")\n",
    "model.save(MODEL_PATH)\n",
    "print(\"Sauvegardé:\", MODEL_PATH)\n",
    "\n",
    "def predict_age(img_path: str) -> float:\n",
    "    img = tf.io.read_file(img_path)\n",
    "    img = tf.image.decode_jpeg(img, channels=3)\n",
    "    img = tf.image.resize(img, (IMG_SIZE, IMG_SIZE), antialias=True)\n",
    "    img = tf.keras.applications.mobilenet_v2.preprocess_input(img)\n",
    "    pred = model.predict(tf.expand_dims(img, 0), verbose=0)[0][0]\n",
    "    return float(np.clip(pred, 0, 100))\n",
    "\n",
    "sample_path = test_df.iloc[0][\"path\"]\n",
    "print(\"Exemple:\", sample_path)\n",
    "print(\"Âge vrai:\", int(test_df.iloc[0][\"age\"]), \"| Âge estimé:\", round(predict_age(sample_path), 1))\n"
   ]
  },
  {
   "cell_type": "code",
   "execution_count": null,
   "metadata": {
    "colab": {
     "base_uri": "https://localhost:8080/",
     "height": 612
    },
    "outputId": "85695152-82f9-46eb-9cfb-0a22232343a8"
   },
   "outputs": [],
   "source": [
    "import gradio as gr\n",
    "\n",
    "def infer_gradio(img):\n",
    "    img = tf.keras.preprocessing.image.img_to_array(img)\n",
    "    img = tf.image.resize(img, (IMG_SIZE, IMG_SIZE), antialias=True)\n",
    "    img = tf.keras.applications.mobilenet_v2.preprocess_input(img)\n",
    "    pred = model.predict(tf.expand_dims(img, 0), verbose=0)[0][0]\n",
    "    age = float(np.clip(pred, 0, 100))\n",
    "    return f\"Estimated age: {age:.1f} years\"\n",
    "\n",
    "demo = gr.Interface(\n",
    "    fn=infer_gradio,\n",
    "    inputs=gr.Image(type=\"pil\", label=\"Upload a cropped face image\"),\n",
    "    outputs=gr.Textbox(label=\"Prediction\"),\n",
    "    title=\"Age Regression (UTKFace via kagglehub)\",\n",
    "    description=\"Upload a cropped face image. The model returns an estimated age (continuous).\"\n",
    ")\n",
    "demo.launch(debug=False, share=True)\n"
   ]
  }
 ],
 "metadata": {
  "accelerator": "GPU",
  "kernelspec": {
   "display_name": "Python 3",
   "name": "python3"
  },
  "language_info": {
   "name": "python"
  }
 },
 "nbformat": 4,
 "nbformat_minor": 0
}
